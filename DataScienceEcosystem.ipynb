{
 "cells": [
  {
   "cell_type": "markdown",
   "id": "07cc557a-fb44-4f51-953f-656e736eb513",
   "metadata": {},
   "source": [
    "# Data Science Tools and Ecosystem"
   ]
  },
  {
   "cell_type": "markdown",
   "id": "096b9787-c27d-4a43-b0ab-f150d8ac0de0",
   "metadata": {},
   "source": [
    "In this notebook, Data Science Tools and Ecosystem are summarized."
   ]
  },
  {
   "cell_type": "markdown",
   "id": "5119b7ad-14a2-459a-8e3d-623e03587b8d",
   "metadata": {},
   "source": [
    "**Objectives:**\n",
    "\n",
    "+ Becoming familiar with data scientist tool kit such as databases, packages, datasets and more.\n",
    "+ learning what Jupiter Notebooks, RStudio, JupiterLab, GitHub, SQL are and how they work for different projects that we have.\n",
    "+ With the hadns-on experience, praticing what skills are needed to accomplish our goals and how to be efficient while working on our projects.\n"
   ]
  },
  {
   "cell_type": "markdown",
   "id": "a46ea3ee-db74-4f87-9be2-1292c3369aeb",
   "metadata": {},
   "source": [
    "**Some of the popular languages that Data Scientists use are:**"
   ]
  },
  {
   "cell_type": "markdown",
   "id": "ff0b03f5-8470-42ec-a9a3-5110f1f0e4b3",
   "metadata": {},
   "source": [
    "+ Python\n",
    "+ R\n",
    "+ SQL"
   ]
  },
  {
   "cell_type": "markdown",
   "id": "b0dc1b48-8fcc-4792-a63d-0f430f63107f",
   "metadata": {},
   "source": [
    "**Some of the commonly used libraries used by Data Scientists include:**"
   ]
  },
  {
   "cell_type": "markdown",
   "id": "e275727a-a2fe-401b-9255-a98a8bb77e0e",
   "metadata": {},
   "source": [
    "1. Pandas\n",
    "2. NumPy\n",
    "3. ggplot"
   ]
  },
  {
   "cell_type": "markdown",
   "id": "ec2b27bb-86e3-4852-aec4-d6681e336750",
   "metadata": {},
   "source": [
    "## Data Science Tools\n",
    "|Data Science Tools|\n",
    "|------------------|\n",
    "|RStudio|\n",
    "|JupiterLite|\n",
    "|VS Code|\n"
   ]
  },
  {
   "cell_type": "markdown",
   "id": "0691e48b-52a2-4395-8079-dba94dc3d299",
   "metadata": {},
   "source": [
    "### Below are a few examples of evaluating arithmetic expressions in Python"
   ]
  },
  {
   "cell_type": "code",
   "execution_count": 11,
   "id": "db8ab2c7-88a6-4df7-9fa3-c526f12ee7bb",
   "metadata": {
    "scrolled": true
   },
   "outputs": [
    {
     "data": {
      "text/plain": [
       "17"
      ]
     },
     "execution_count": 11,
     "metadata": {},
     "output_type": "execute_result"
    }
   ],
   "source": [
    "# This a simple arithmetic expression to mutiply then add integer\n",
    "(3*4)+5"
   ]
  },
  {
   "cell_type": "code",
   "execution_count": 12,
   "id": "0aceb920-796a-451d-9d9f-f3df6146598f",
   "metadata": {
    "scrolled": true
   },
   "outputs": [
    {
     "data": {
      "text/plain": [
       "3.3333333333333335"
      ]
     },
     "execution_count": 12,
     "metadata": {},
     "output_type": "execute_result"
    }
   ],
   "source": [
    "#This will convert 200 minutes to hours by diving by 60\n",
    "\n",
    "200/60"
   ]
  },
  {
   "cell_type": "markdown",
   "id": "13e4649c-26f7-42d0-a4fe-3f1695b14c29",
   "metadata": {},
   "source": [
    "## Author \n",
    "Cagri Mazi"
   ]
  }
 ],
 "metadata": {
  "kernelspec": {
   "display_name": "Python 3 (ipykernel)",
   "language": "python",
   "name": "python3"
  },
  "language_info": {
   "codemirror_mode": {
    "name": "ipython",
    "version": 3
   },
   "file_extension": ".py",
   "mimetype": "text/x-python",
   "name": "python",
   "nbconvert_exporter": "python",
   "pygments_lexer": "ipython3",
   "version": "3.13.7"
  }
 },
 "nbformat": 4,
 "nbformat_minor": 5
}
